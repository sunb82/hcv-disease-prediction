{
 "cells": [
  {
   "cell_type": "code",
   "execution_count": 1,
   "id": "b0a8a841",
   "metadata": {},
   "outputs": [
    {
     "name": "stdout",
     "output_type": "stream",
     "text": [
      "Libraries loaded successfully\n"
     ]
    }
   ],
   "source": [
    "\"\"\"\n",
    "Model Training for HCV Disease Prediction\n",
    "==========================================\n",
    "Training multiple classification algorithms to predict HCV disease stages\n",
    "\"\"\"\n",
    "\n",
    "import pandas as pd\n",
    "import numpy as np\n",
    "import matplotlib.pyplot as plt\n",
    "import seaborn as sns\n",
    "import pickle\n",
    "import time\n",
    "from sklearn.linear_model import LogisticRegression\n",
    "from sklearn.ensemble import RandomForestClassifier\n",
    "from sklearn.tree import DecisionTreeClassifier\n",
    "from sklearn.svm import SVC\n",
    "from xgboost import XGBClassifier\n",
    "from sklearn.metrics import (accuracy_score, precision_score, recall_score, \n",
    "                           f1_score, confusion_matrix, classification_report,\n",
    "                           roc_auc_score, roc_curve, auc)\n",
    "from sklearn.model_selection import cross_val_score, GridSearchCV\n",
    "import warnings\n",
    "warnings.filterwarnings('ignore')\n",
    "\n",
    "# Set random seed\n",
    "np.random.seed(42)\n",
    "\n",
    "print(\"Libraries loaded successfully\")"
   ]
  },
  {
   "cell_type": "code",
   "execution_count": 2,
   "id": "ea279ba3",
   "metadata": {},
   "outputs": [
    {
     "name": "stdout",
     "output_type": "stream",
     "text": [
      "Data shapes:\n",
      "X_train: (1264, 22), y_train: (1264,)\n",
      "X_val: (118, 22), y_val: (118,)\n",
      "X_test: (118, 22), y_test: (118,)\n",
      "\n",
      "Class distribution in training (balanced with SMOTE):\n",
      "Category\n",
      "0    316\n",
      "1    316\n",
      "2    316\n",
      "3    316\n",
      "Name: count, dtype: int64\n"
     ]
    }
   ],
   "source": [
    "# Load preprocessed data\n",
    "data_dir = '../data/processed/'\n",
    "\n",
    "X_train = pd.read_csv(f'{data_dir}X_train.csv')\n",
    "X_val = pd.read_csv(f'{data_dir}X_val.csv')\n",
    "X_test = pd.read_csv(f'{data_dir}X_test.csv')\n",
    "\n",
    "y_train = pd.read_csv(f'{data_dir}y_train.csv')['Category']\n",
    "y_val = pd.read_csv(f'{data_dir}y_val.csv')['Category']\n",
    "y_test = pd.read_csv(f'{data_dir}y_test.csv')['Category']\n",
    "\n",
    "print(\"Data shapes:\")\n",
    "print(f\"X_train: {X_train.shape}, y_train: {y_train.shape}\")\n",
    "print(f\"X_val: {X_val.shape}, y_val: {y_val.shape}\")\n",
    "print(f\"X_test: {X_test.shape}, y_test: {y_test.shape}\")\n",
    "\n",
    "print(f\"\\nClass distribution in training (balanced with SMOTE):\")\n",
    "print(y_train.value_counts().sort_index())"
   ]
  },
  {
   "cell_type": "code",
   "execution_count": null,
   "id": "f6b13b4e",
   "metadata": {},
   "outputs": [],
   "source": [
    "class ModelTrainer ():\n",
    "    def __init__(self):\n",
    "        self.models = {}\n",
    "        self.results = {}\n",
    "        self.best = None\n",
    "        self.score = 0"
   ]
  }
 ],
 "metadata": {
  "kernelspec": {
   "display_name": "venv",
   "language": "python",
   "name": "python3"
  },
  "language_info": {
   "codemirror_mode": {
    "name": "ipython",
    "version": 3
   },
   "file_extension": ".py",
   "mimetype": "text/x-python",
   "name": "python",
   "nbconvert_exporter": "python",
   "pygments_lexer": "ipython3",
   "version": "3.12.3"
  }
 },
 "nbformat": 4,
 "nbformat_minor": 5
}
