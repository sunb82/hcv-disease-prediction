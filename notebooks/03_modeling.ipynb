{
 "cells": [
  {
   "cell_type": "code",
   "execution_count": 1,
   "id": "b0a8a841",
   "metadata": {},
   "outputs": [
    {
     "name": "stdout",
     "output_type": "stream",
     "text": [
      "Libraries loaded successfully\n"
     ]
    }
   ],
   "source": [
    "\"\"\"\n",
    "Model Training for HCV Disease Prediction\n",
    "==========================================\n",
    "Training multiple classification algorithms to predict HCV disease stages\n",
    "\"\"\"\n",
    "\n",
    "import pandas as pd\n",
    "import numpy as np\n",
    "import matplotlib.pyplot as plt\n",
    "import seaborn as sns\n",
    "import pickle\n",
    "import time\n",
    "from sklearn.linear_model import LogisticRegression\n",
    "from sklearn.ensemble import RandomForestClassifier\n",
    "from sklearn.tree import DecisionTreeClassifier\n",
    "from sklearn.svm import SVC\n",
    "from xgboost import XGBClassifier\n",
    "from sklearn.metrics import (accuracy_score, precision_score, recall_score, \n",
    "                           f1_score, confusion_matrix, classification_report,\n",
    "                           roc_auc_score, roc_curve, auc)\n",
    "from sklearn.model_selection import cross_val_score, GridSearchCV\n",
    "import warnings\n",
    "warnings.filterwarnings('ignore')\n",
    "\n",
    "# Set random seed\n",
    "np.random.seed(42)\n",
    "\n",
    "print(\"Libraries loaded successfully\")"
   ]
  },
  {
   "cell_type": "code",
   "execution_count": 2,
   "id": "ea279ba3",
   "metadata": {},
   "outputs": [
    {
     "name": "stdout",
     "output_type": "stream",
     "text": [
      "Data shapes:\n",
      "X_train: (1264, 22), y_train: (1264,)\n",
      "X_val: (118, 22), y_val: (118,)\n",
      "X_test: (118, 22), y_test: (118,)\n",
      "\n",
      "Class distribution in training (balanced with SMOTE):\n",
      "Category\n",
      "0    316\n",
      "1    316\n",
      "2    316\n",
      "3    316\n",
      "Name: count, dtype: int64\n"
     ]
    }
   ],
   "source": [
    "# Load preprocessed data\n",
    "data_dir = '../data/processed/'\n",
    "\n",
    "X_train = pd.read_csv(f'{data_dir}X_train.csv')\n",
    "X_val = pd.read_csv(f'{data_dir}X_val.csv')\n",
    "X_test = pd.read_csv(f'{data_dir}X_test.csv')\n",
    "\n",
    "y_train = pd.read_csv(f'{data_dir}y_train.csv')['Category']\n",
    "y_val = pd.read_csv(f'{data_dir}y_val.csv')['Category']\n",
    "y_test = pd.read_csv(f'{data_dir}y_test.csv')['Category']\n",
    "\n",
    "print(\"Data shapes:\")\n",
    "print(f\"X_train: {X_train.shape}, y_train: {y_train.shape}\")\n",
    "print(f\"X_val: {X_val.shape}, y_val: {y_val.shape}\")\n",
    "print(f\"X_test: {X_test.shape}, y_test: {y_test.shape}\")\n",
    "\n",
    "print(f\"\\nClass distribution in training (balanced with SMOTE):\")\n",
    "print(y_train.value_counts().sort_index())"
   ]
  },
  {
   "cell_type": "code",
   "execution_count": null,
   "id": "f6b13b4e",
   "metadata": {},
   "outputs": [],
   "source": [
    "class ModelTrainer ():\n",
    "    def __init__(self):\n",
    "        self.models = {}\n",
    "        self.results = {}\n",
    "        self.best = None\n",
    "        self.score = 0\n",
    "\n",
    "    def select_model(self, name, model):\n",
    "        self.models[name] = model\n",
    "\n",
    "    def train_model(self, X_train, X_val, y_train, y_val):\n",
    "        \"\"\"Train a single model and evaluate on validation set\"\"\"\n",
    "\n",
    "        print(f\"\\nTraining {name}...\")\n",
    "        start_time = time.time()\n",
    "\n",
    "        # Train\n",
    "        model = self.models[name]\n",
    "        model.fit(X_train, y_train)\n",
    "\n",
    "        # Predict\n",
    "        y_train_pred = model.predict(X_train)\n",
    "        y_val_pred = model.predict(X_val)\n",
    "        \n",
    "        # Calculate metrics\n",
    "        train_acc = accuracy_score(y_train, y_train_pred)\n",
    "        val_acc = accuracy_score(y_val, y_val_pred)\n",
    "        val_f1 = f1_score(y_val, y_val_pred, average='weighted')\n",
    "        val_precision = precision_score(y_val, y_val_pred, average='weighted', zero_division=0)\n",
    "        val_recall = recall_score(y_val, y_val_pred, average='weighted')\n",
    "        \n",
    "        # Training time\n",
    "        training_time = time.time() - start_time\n",
    "        \n",
    "        # Store results\n",
    "        self.results[name] = {\n",
    "            'model': model,\n",
    "            'train_accuracy': train_acc,\n",
    "            'val_accuracy': val_acc,\n",
    "            'val_f1': val_f1,\n",
    "            'val_precision': val_precision,\n",
    "            'val_recall': val_recall,\n",
    "            'training_time': training_time,\n",
    "            'y_val_pred': y_val_pred\n",
    "        }\n",
    "        \n",
    "        print(f\"  Training Accuracy: {train_acc:.4f}\")\n",
    "        print(f\"  Validation Accuracy: {val_acc:.4f}\")\n",
    "        print(f\"  Validation F1-Score: {val_f1:.4f}\")\n",
    "        print(f\"  Training Time: {training_time:.2f} seconds\")\n",
    "        \n",
    "        # Update best model\n",
    "        if val_f1 > self.best_score:\n",
    "            self.best_score = val_f1\n",
    "            self.best_model = name\n",
    "            \n",
    "        return model\n",
    "    \n",
    "    def train_all(self, X_train, y_train, X_val, y_val):\n",
    "        \"\"\"Train all models\"\"\"\n",
    "        for name in self.models.keys():\n",
    "            self.train_model(name, X_train, y_train, X_val, y_val)\n",
    "        \n",
    "        print(f\"\\n🏆 Best Model: {self.best_model} (F1-Score: {self.best_score:.4f})\")\n",
    "        \n",
    "    def get_results_dataframe(self):\n",
    "        \"\"\"Return results as a sorted dataframe\"\"\"\n",
    "        df = pd.DataFrame(self.results).T\n",
    "        df = df.sort_values('val_f1', ascending=False)\n",
    "        return df[['train_accuracy', 'val_accuracy', 'val_f1', 'val_precision', 'val_recall', 'training_time']]"
   ]
  },
  {
   "cell_type": "code",
   "execution_count": null,
   "id": "e4c52ff5",
   "metadata": {},
   "outputs": [],
   "source": [
    "#Todo \n",
    "# LogisticRegression\n",
    "# Random Forest Classifier\n",
    "# XGBoost"
   ]
  }
 ],
 "metadata": {
  "kernelspec": {
   "display_name": "venv",
   "language": "python",
   "name": "python3"
  },
  "language_info": {
   "codemirror_mode": {
    "name": "ipython",
    "version": 3
   },
   "file_extension": ".py",
   "mimetype": "text/x-python",
   "name": "python",
   "nbconvert_exporter": "python",
   "pygments_lexer": "ipython3",
   "version": "3.12.3"
  }
 },
 "nbformat": 4,
 "nbformat_minor": 5
}
